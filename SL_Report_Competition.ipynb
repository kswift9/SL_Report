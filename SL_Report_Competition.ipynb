{
 "cells": [
  {
   "cell_type": "code",
   "execution_count": 2,
   "id": "f775c20b",
   "metadata": {},
   "outputs": [],
   "source": [
    "# native packages\n",
    "import os, logging, warnings, json, functools, time\n",
    "\n",
    "# some setup\n",
    "warnings.filterwarnings('ignore', module='tqdm.auto')  # deprication warnings\n",
    "warnings.filterwarnings('ignore', module='sklearn.neural_network._multilayer_perceptron')  # convergence warnings\n",
    "logger = logging.getLogger(__name__)\n",
    "\n",
    "# other packages\n",
    "import pandas as pd\n",
    "import matplotlib.pyplot as plt\n",
    "import numpy as np\n",
    "from tqdm.auto import tqdm\n",
    "from scipy.stats import pointbiserialr\n",
    "\n",
    "# custom package\n",
    "import sl_utils\n",
    "\n",
    "# sklearn imports\n",
    "from sklearn import svm\n",
    "from sklearn.preprocessing import RobustScaler\n",
    "from sklearn.model_selection import train_test_split\n",
    "from sklearn.metrics import (\n",
    "    f1_score,\n",
    "    mean_squared_error,\n",
    ")\n",
    "from sklearn.neighbors import ( \n",
    "    KNeighborsRegressor, \n",
    "    KNeighborsClassifier\n",
    ")\n",
    "from sklearn.neural_network import (\n",
    "    MLPRegressor,\n",
    "    MLPClassifier\n",
    ")\n",
    "from sklearn.feature_selection import (\n",
    "    mutual_info_classif, \n",
    "    SelectKBest\n",
    ")\n"
   ]
  },
  {
   "cell_type": "code",
   "execution_count": 3,
   "id": "2996d81b",
   "metadata": {},
   "outputs": [
    {
     "name": "stdout",
     "output_type": "stream",
     "text": [
      "Already have Cancer Dataset\n",
      "Cancer Demo Saved\n",
      "Already Have Bankruptcy Dataset\n",
      "Bankruptcy Demo Saved\n"
     ]
    }
   ],
   "source": [
    "# download data from kaggle and set up loader - global\n",
    "DATA = sl_utils.SL_Report_Data()\n",
    "DATA.set_up_data()\n",
    "\n",
    "# experiment directory - global\n",
    "EXPERIMENT_NAME = 'expr2'  # global var\n",
    "if not os.path.exists(DATA.root+f'logs/{EXPERIMENT_NAME}/'):\n",
    "    os.mkdir(DATA.root+f'logs/{EXPERIMENT_NAME}/')"
   ]
  },
  {
   "cell_type": "code",
   "execution_count": 4,
   "id": "8fd6a111",
   "metadata": {},
   "outputs": [],
   "source": [
    "def clean_cancer_data(raw_cancer_df):\n",
    "    meta = ['Patient_ID']\n",
    "    targets = ['Treatment_Cost_USD', 'Survival_Years', 'Target_Severity_Score']\n",
    "    categoricals = ['Gender', 'Country_Region', 'Cancer_Type', 'Cancer_Stage']\n",
    "\n",
    "    # drop outputs and patient IDs\n",
    "    cancer_inputs = pd.get_dummies(\n",
    "        raw_cancer_df.drop(meta+targets, axis=1),\n",
    "        columns = categoricals,\n",
    "        drop_first = True\n",
    "        ).astype(int)\n",
    "    \n",
    "    # return\n",
    "    return cancer_inputs\n",
    "\n",
    "cancer_data = clean_cancer_data(DATA.get_cancer_full())\n",
    "tss = DATA.get_cancer_full()['Target_Severity_Score']\n",
    "\n",
    "cancer_train, cancer_test, tss_train, tss_test = train_test_split(cancer_data, tss, test_size=0.25, shuffle=True, random_state=7)\n",
    "\n",
    "financial_data = DATA.get_bankruptcy_full().drop('Bankrupt?', axis=1)\n",
    "bankrupt = DATA.get_bankruptcy_full()['Bankrupt?']\n",
    "\n",
    "financial_train, financial_test, bankrupt_train, bankrupt_test = train_test_split(financial_data, bankrupt, test_size=0.25, shuffle=True, random_state=7, stratify=bankrupt)"
   ]
  },
  {
   "cell_type": "code",
   "execution_count": null,
   "id": "302391fc",
   "metadata": {},
   "outputs": [
    {
     "name": "stdout",
     "output_type": "stream",
     "text": [
      "MSE: 0.32214010231209916\n",
      "n training points: 37500\n",
      "F1: 0.019417475728155338\n",
      "n training points: 5114\n"
     ]
    }
   ],
   "source": [
    "def get_best_params(log_filename, want_low):\n",
    "    opt_name = log_filename.replace('.json', '')\n",
    "    if not os.path.exists(f'{DATA.root}logs/{EXPERIMENT_NAME}/{log_filename}'):\n",
    "        raise Exception('Does not exist')\n",
    "    else:\n",
    "        with open(f'{DATA.root}logs/{EXPERIMENT_NAME}/{log_filename}', 'r') as file:\n",
    "            results = json.load(file)\n",
    "        if want_low:\n",
    "            best_result = sorted(results, key=lambda cv_results: cv_results['test_score'])[0]\n",
    "        else:\n",
    "            best_result = sorted(results, key=lambda cv_results: cv_results['test_score'])[-1]\n",
    "        return best_result['params']\n",
    "    \n",
    "\n",
    "# cancer competitor\n",
    "cancer_model = svm.SVR(**get_best_params('Cancer_SVR_RBF.json', want_low=True))\n",
    "t0 = time.time()\n",
    "cancer_model.fit(cancer_train, tss_train)\n",
    "t1 = time.time()\n",
    "print('MSE:', mean_squared_error(tss_test, cancer_model.predict(cancer_test)))\n",
    "t2 = time.time()\n",
    "print('n training points:', cancer_train.shape[0])\n",
    "print('Train Time:', round(t1-t0,2))\n",
    "print('Predict Time': round(t2-t1,2))\n",
    "\n",
    "print()\n",
    "\n",
    "# bankruptcy competitor\n",
    "bankruptcy_model = MLPClassifier(**get_best_params('Bankruptcy_NN_Relu.json', want_low=False))\n",
    "t0 = time.time()\n",
    "bankruptcy_model.fit(financial_train, bankrupt_train)\n",
    "t1 = time.time()\n",
    "print('F1:', f1_score(bankrupt_test, bankruptcy_model.predict(financial_test)))\n",
    "t2 = time.time()\n",
    "print('n training points:', financial_train.shape[0])\n",
    "print('Train Time:', round(t1-t0,2))\n",
    "print('Predict Time': round(t2-t1,2))\n"
   ]
  }
 ],
 "metadata": {
  "kernelspec": {
   "display_name": "Python 3",
   "language": "python",
   "name": "python3"
  },
  "language_info": {
   "codemirror_mode": {
    "name": "ipython",
    "version": 3
   },
   "file_extension": ".py",
   "mimetype": "text/x-python",
   "name": "python",
   "nbconvert_exporter": "python",
   "pygments_lexer": "ipython3",
   "version": "3.12.0"
  }
 },
 "nbformat": 4,
 "nbformat_minor": 5
}
